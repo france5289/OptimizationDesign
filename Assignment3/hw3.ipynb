{
 "cells": [
  {
   "cell_type": "code",
   "execution_count": 1,
   "metadata": {},
   "outputs": [],
   "source": [
    "import numpy as np"
   ]
  },
  {
   "cell_type": "markdown",
   "metadata": {},
   "source": [
    "# Optimum Design Homework 3\n",
    "Suppose you are given this data set: x=\\[0.1, 0.9, 2.2, 3, 4.1, 5.2, 5.9, 6.8, 8.1, 8.7, 9.2, 11, 12.4, 14.1, 15.2, 16.8, 18.7, 19.9, 22\\];    \n",
    "y=\\[28.5, 27, 29, 30.5, 37.3, 36.4, 32.4, 28.5, 30, 36.1, 39, 36, 32, 28, 22, 20, 27, 40, 61\\]. \n"
   ]
  },
  {
   "cell_type": "code",
   "execution_count": 2,
   "metadata": {},
   "outputs": [
    {
     "output_type": "stream",
     "name": "stdout",
     "text": "x:[ 0.1  0.9  2.2  3.   4.1  5.2  5.9  6.8  8.1  8.7  9.2 11.  12.4 14.1\n 15.2 16.8 18.7 19.9 22. ]\ny:[28.5 27.  29.  30.5 37.3 36.4 32.4 28.5 30.  36.1 39.  36.  32.  28.\n 22.  20.  27.  40.  61. ]\n"
    }
   ],
   "source": [
    "x = np.array([0.1, 0.9, 2.2, 3, 4.1, 5.2, 5.9, 6.8, 8.1, 8.7, 9.2, 11, 12.4, 14.1, 15.2, 16.8, 18.7, 19.9, 22])\n",
    "y = np.array([28.5, 27, 29, 30.5, 37.3, 36.4, 32.4, 28.5, 30, 36.1, 39, 36, 32, 28, 22, 20, 27, 40, 61])\n",
    "print(f'x:{x}')\n",
    "print(f'y:{y}')"
   ]
  },
  {
   "cell_type": "markdown",
   "metadata": {},
   "source": [
    "## 1.Find (analytically) the coefficients of the best-fit linear and quadratic regression equations.\n",
    "### Linear regression"
   ]
  },
  {
   "cell_type": "code",
   "execution_count": 10,
   "metadata": {},
   "outputs": [
    {
     "output_type": "stream",
     "name": "stdout",
     "text": "xx:2582.0499999999997\nxy:6326.389999999999\nx_sum:184.29999999999998\ny_sum:620.7\n"
    }
   ],
   "source": [
    "xx = np.sum(x**2)\n",
    "xy = x.dot(y)\n",
    "x_sum = np.sum(x)\n",
    "y_sum = np.sum(y)\n",
    "print(f'xx:{xx}')\n",
    "print(f'xy:{xy}')\n",
    "print(f'x_sum:{x_sum}')\n",
    "print(f'y_sum:{y_sum}')"
   ]
  },
  {
   "cell_type": "code",
   "execution_count": 14,
   "metadata": {},
   "outputs": [
    {
     "output_type": "stream",
     "name": "stdout",
     "text": "Num of data points:19\n"
    }
   ],
   "source": [
    "n = x.size\n",
    "print(f'Num of data points:{n}')"
   ]
  },
  {
   "cell_type": "code",
   "execution_count": 17,
   "metadata": {},
   "outputs": [
    {
     "output_type": "stream",
     "name": "stdout",
     "text": "Best Fit coefficient m : 0.3847219074955303\nBest Fit coefficient b : 28.936618549924937\n"
    }
   ],
   "source": [
    "m = ( x_sum * y_sum - n * xy ) / ( x_sum ** 2 - n * xx )\n",
    "b = ( y_sum - m * x_sum ) / n \n",
    "print(f'Best Fit coefficient m : {m}')\n",
    "print(f'Best Fit coefficient b : {b}')"
   ]
  },
  {
   "cell_type": "markdown",
   "metadata": {},
   "source": [
    "### Quadratic Regression\n",
    "f(x) = a_0 + a_1x + a_2x^2"
   ]
  },
  {
   "cell_type": "code",
   "execution_count": 36,
   "metadata": {},
   "outputs": [
    {
     "output_type": "stream",
     "name": "stdout",
     "text": "[1. 1. 1. 1. 1. 1. 1. 1. 1. 1. 1. 1. 1. 1. 1. 1. 1. 1. 1.]\n[ 0.1  0.9  2.2  3.   4.1  5.2  5.9  6.8  8.1  8.7  9.2 11.  12.4 14.1\n 15.2 16.8 18.7 19.9 22. ]\n[1.0000e-02 8.1000e-01 4.8400e+00 9.0000e+00 1.6810e+01 2.7040e+01\n 3.4810e+01 4.6240e+01 6.5610e+01 7.5690e+01 8.4640e+01 1.2100e+02\n 1.5376e+02 1.9881e+02 2.3104e+02 2.8224e+02 3.4969e+02 3.9601e+02\n 4.8400e+02]\n"
    }
   ],
   "source": [
    "row_1 = np.ones((19))\n",
    "row_2 = x.reshape((19))\n",
    "row_3 = (x**2).reshape(19)\n",
    "print(row_1)\n",
    "print(row_2)\n",
    "print(row_3)"
   ]
  },
  {
   "cell_type": "code",
   "execution_count": 39,
   "metadata": {},
   "outputs": [
    {
     "output_type": "stream",
     "name": "stdout",
     "text": "[[1.0000e+00 1.0000e-01 1.0000e-02]\n [1.0000e+00 9.0000e-01 8.1000e-01]\n [1.0000e+00 2.2000e+00 4.8400e+00]\n [1.0000e+00 3.0000e+00 9.0000e+00]\n [1.0000e+00 4.1000e+00 1.6810e+01]\n [1.0000e+00 5.2000e+00 2.7040e+01]\n [1.0000e+00 5.9000e+00 3.4810e+01]\n [1.0000e+00 6.8000e+00 4.6240e+01]\n [1.0000e+00 8.1000e+00 6.5610e+01]\n [1.0000e+00 8.7000e+00 7.5690e+01]\n [1.0000e+00 9.2000e+00 8.4640e+01]\n [1.0000e+00 1.1000e+01 1.2100e+02]\n [1.0000e+00 1.2400e+01 1.5376e+02]\n [1.0000e+00 1.4100e+01 1.9881e+02]\n [1.0000e+00 1.5200e+01 2.3104e+02]\n [1.0000e+00 1.6800e+01 2.8224e+02]\n [1.0000e+00 1.8700e+01 3.4969e+02]\n [1.0000e+00 1.9900e+01 3.9601e+02]\n [1.0000e+00 2.2000e+01 4.8400e+02]]\n"
    }
   ],
   "source": [
    "X = np.array([row_1, row_2, row_3]).T\n",
    "print(X)"
   ]
  },
  {
   "cell_type": "code",
   "execution_count": 41,
   "metadata": {},
   "outputs": [
    {
     "output_type": "stream",
     "name": "stdout",
     "text": "Best fit coefficient : [33.84246993 -1.07117391  0.06781837]\n"
    }
   ],
   "source": [
    "a = (np.linalg.inv(X.T @ X) @ X.T).dot(y)\n",
    "print(f'Best fit coefficient : {a}')"
   ]
  },
  {
   "cell_type": "markdown",
   "metadata": {},
   "source": [
    "## 2. Find the coefficients the best-fit linear and quadratic regression equations numerically. First, use Fletcher-Reeves conjugate gradient method. Then use one of the methods involving Newton’s method or one of the quasi-Newton methods (DFP or BFGS)."
   ]
  },
  {
   "cell_type": "code",
   "execution_count": null,
   "metadata": {},
   "outputs": [],
   "source": []
  }
 ],
 "metadata": {
  "language_info": {
   "codemirror_mode": {
    "name": "ipython",
    "version": 3
   },
   "file_extension": ".py",
   "mimetype": "text/x-python",
   "name": "python",
   "nbconvert_exporter": "python",
   "pygments_lexer": "ipython3",
   "version": "3.7.5-final"
  },
  "orig_nbformat": 2,
  "kernelspec": {
   "name": "optimizationvenv",
   "display_name": "Optimizationvenv"
  }
 },
 "nbformat": 4,
 "nbformat_minor": 2
}