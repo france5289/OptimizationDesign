{
 "cells": [
  {
   "cell_type": "code",
   "execution_count": 1,
   "metadata": {},
   "outputs": [],
   "source": [
    "import numpy as np\n",
    "from scipy.optimize import minimize"
   ]
  },
  {
   "cell_type": "markdown",
   "metadata": {},
   "source": [
    "# Optimization Design homework 4\n",
    "## Problem 1\n",
    "let x1 be the radius and x2 be the length . \n",
    "maximize : 2 * x_1 * x_2 + ( x_1 ** 2 * pi ) / 2   \n",
    "s.t : 2x_1 + 2x_2 + x_1*pi = 10  \n",
    "      x_1 > 0  \n",
    "      x_2 > 0   "
   ]
  },
  {
   "cell_type": "markdown",
   "metadata": {},
   "source": [
    "### Define objective function\n",
    "Hence maximize objective function is equal to minimize negative of objective function"
   ]
  },
  {
   "cell_type": "code",
   "execution_count": 2,
   "metadata": {},
   "outputs": [],
   "source": [
    "def objective1(x):\n",
    "    '''\n",
    "    objective function of problem 1\n",
    "    Args:\n",
    "    ---\n",
    "        x (2d numpy array) : input vector\n",
    "    Return:\n",
    "    ---\n",
    "        value : function value\n",
    "    '''\n",
    "    return ( 2 * x[0] * x[1] + ( x[0] ** 2 * np.pi ) / 2 ) * -1"
   ]
  },
  {
   "cell_type": "markdown",
   "metadata": {},
   "source": [
    "### Define bounds of x_1 and x_2"
   ]
  },
  {
   "cell_type": "code",
   "execution_count": 3,
   "metadata": {},
   "outputs": [],
   "source": [
    "from scipy.optimize import Bounds\n",
    "bounds_1 = Bounds([1, 1], [np.inf, np.inf])"
   ]
  },
  {
   "cell_type": "markdown",
   "metadata": {},
   "source": [
    "### Define Linear Constraints"
   ]
  },
  {
   "cell_type": "code",
   "execution_count": 4,
   "metadata": {},
   "outputs": [],
   "source": [
    "from scipy.optimize import LinearConstraint\n",
    "linear_constraints_1 = LinearConstraint([2+np.pi, 2], 10, 10)"
   ]
  },
  {
   "cell_type": "markdown",
   "metadata": {},
   "source": [
    "### Solve optimization problem"
   ]
  },
  {
   "cell_type": "code",
   "execution_count": 5,
   "metadata": {},
   "outputs": [
    {
     "output_type": "stream",
     "name": "stdout",
     "text": "`gtol` termination condition is satisfied.\nNumber of iterations: 12, function evaluations: 21, CG iterations: 6, optimality: 8.15e-09, constraint violation: 0.00e+00, execution time: 0.024 s.\n"
    }
   ],
   "source": [
    "x0 = np.array([1, 1])\n",
    "res = minimize(objective1, x0, method = 'trust-constr', constraints=[linear_constraints_1], options={'disp':True}, bounds=bounds_1)"
   ]
  },
  {
   "cell_type": "markdown",
   "metadata": {},
   "source": [
    "### Print optimum point"
   ]
  },
  {
   "cell_type": "code",
   "execution_count": 6,
   "metadata": {},
   "outputs": [
    {
     "output_type": "stream",
     "name": "stdout",
     "text": "[1.40023028 1.40029313]\n"
    }
   ],
   "source": [
    "print(res.x)"
   ]
  },
  {
   "cell_type": "markdown",
   "metadata": {},
   "source": [
    "### Check funtion value of optimum point\n",
    "whether it is minimum or not"
   ]
  },
  {
   "cell_type": "code",
   "execution_count": 7,
   "metadata": {},
   "outputs": [
    {
     "output_type": "execute_result",
     "data": {
      "text/plain": "-7.00123941778847"
     },
     "metadata": {},
     "execution_count": 7
    }
   ],
   "source": [
    "objective1(res.x)"
   ]
  },
  {
   "cell_type": "code",
   "execution_count": 8,
   "metadata": {},
   "outputs": [
    {
     "output_type": "execute_result",
     "data": {
      "text/plain": "-6.036947381056418"
     },
     "metadata": {},
     "execution_count": 8
    }
   ],
   "source": [
    "objective1(res.x - np.array([0.1, 0.1]))"
   ]
  },
  {
   "cell_type": "markdown",
   "metadata": {},
   "source": [
    "### Check constraint"
   ]
  },
  {
   "cell_type": "code",
   "execution_count": 9,
   "metadata": {},
   "outputs": [
    {
     "output_type": "execute_result",
     "data": {
      "text/plain": "10.0"
     },
     "metadata": {},
     "execution_count": 9
    }
   ],
   "source": [
    "temp = np.array([2+np.pi, 2])\n",
    "temp @ res.x"
   ]
  },
  {
   "cell_type": "markdown",
   "metadata": {},
   "source": [
    "## Problem 2"
   ]
  },
  {
   "cell_type": "markdown",
   "metadata": {},
   "source": [
    "## Problem 3\n",
    "Solve the first problem numerically on the following [website](http://people.brunel.ac.uk/~mastjjb/jeb/or/morelp.html)  \n",
    "- Use Linear programming method\n",
    "- Use Non linear programming method"
   ]
  },
  {
   "cell_type": "markdown",
   "metadata": {},
   "source": [
    "### Problem 3-1"
   ]
  },
  {
   "cell_type": "code",
   "execution_count": 10,
   "metadata": {},
   "outputs": [],
   "source": [
    "from scipy.optimize import linprog\n",
    "c = [-1,-1]\n",
    "A = [[50,24], [30,33]]\n",
    "b = [40*60,35*60]\n",
    "x0_bounds = (45, None)\n",
    "x1_bounds = (5, None)"
   ]
  },
  {
   "cell_type": "code",
   "execution_count": 11,
   "metadata": {},
   "outputs": [
    {
     "output_type": "stream",
     "name": "stdout",
     "text": "con: array([], dtype=float64)\n     fun: -51.25\n message: 'Optimization terminated successfully.'\n     nit: 2\n   slack: array([  0.  , 543.75])\n  status: 0\n success: True\n       x: array([45.  ,  6.25])\n"
    }
   ],
   "source": [
    "res3_1 = linprog(c, A_ub = A, b_ub = b, bounds=[x0_bounds, x1_bounds], method='revised simplex')\n",
    "print(res3_1)"
   ]
  },
  {
   "cell_type": "code",
   "execution_count": 12,
   "metadata": {},
   "outputs": [
    {
     "output_type": "stream",
     "name": "stdout",
     "text": "Actual Optimum Value : 1.25\nOptimal point (x_0, x_1) : (45.0,6.25)\n"
    }
   ],
   "source": [
    "print(f'Actual Optimum Value : {res3_1.fun * -1 - 50}')\n",
    "print(f'Optimal point (x_0, x_1) : ({res3_1.x[0]},{res3_1.x[1]})')"
   ]
  },
  {
   "cell_type": "markdown",
   "metadata": {},
   "source": [
    "### Problem 3-2"
   ]
  },
  {
   "cell_type": "code",
   "execution_count": null,
   "metadata": {},
   "outputs": [],
   "source": []
  }
 ],
 "metadata": {
  "language_info": {
   "codemirror_mode": {
    "name": "ipython",
    "version": 3
   },
   "file_extension": ".py",
   "mimetype": "text/x-python",
   "name": "python",
   "nbconvert_exporter": "python",
   "pygments_lexer": "ipython3",
   "version": "3.7.5-final"
  },
  "orig_nbformat": 2,
  "kernelspec": {
   "name": "optimizationvenv",
   "display_name": "Optimizationvenv"
  }
 },
 "nbformat": 4,
 "nbformat_minor": 2
}