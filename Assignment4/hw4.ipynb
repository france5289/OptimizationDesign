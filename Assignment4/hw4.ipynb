{
 "cells": [
  {
   "cell_type": "code",
   "execution_count": 1,
   "metadata": {},
   "outputs": [],
   "source": [
    "import numpy as np\n",
    "from scipy.optimize import minimize"
   ]
  },
  {
   "cell_type": "markdown",
   "metadata": {},
   "source": [
    "# Optimization Design homework 4\n",
    "## Problem 1\n",
    "let x1 be the radius and x2 be the length . \n",
    "maximize : 2 * x_1 * x_2 + ( x_1 ** 2 * pi ) / 2   \n",
    "s.t : 2x_1 + 2x_2 + x_1*pi = 10  \n",
    "      x_1 > 0  \n",
    "      x_2 > 0   "
   ]
  },
  {
   "cell_type": "markdown",
   "metadata": {},
   "source": [
    "### Define objective function\n",
    "Hence maximize objective function is equal to minimize negative of objective function"
   ]
  },
  {
   "cell_type": "code",
   "execution_count": 2,
   "metadata": {},
   "outputs": [],
   "source": [
    "def objective1(x):\n",
    "    '''\n",
    "    objective function of problem 1\n",
    "    Args:\n",
    "    ---\n",
    "        x (2d numpy array) : input vector\n",
    "    Return:\n",
    "    ---\n",
    "        value : function value\n",
    "    '''\n",
    "    return ( 2 * x[0] * x[1] + ( x[0] ** 2 * np.pi ) / 2 ) * -1"
   ]
  },
  {
   "cell_type": "markdown",
   "metadata": {},
   "source": [
    "### Define bounds of x_1 and x_2"
   ]
  },
  {
   "cell_type": "code",
   "execution_count": 3,
   "metadata": {},
   "outputs": [],
   "source": [
    "from scipy.optimize import Bounds\n",
    "bounds_1 = Bounds([1, 1], [np.inf, np.inf])"
   ]
  },
  {
   "cell_type": "markdown",
   "metadata": {},
   "source": [
    "### Define Linear Constraints"
   ]
  },
  {
   "cell_type": "code",
   "execution_count": 4,
   "metadata": {},
   "outputs": [],
   "source": [
    "from scipy.optimize import LinearConstraint\n",
    "linear_constraints_1 = LinearConstraint([2+np.pi, 2], 10, 10)"
   ]
  },
  {
   "cell_type": "markdown",
   "metadata": {},
   "source": [
    "### Solve optimization problem"
   ]
  },
  {
   "cell_type": "code",
   "execution_count": 5,
   "metadata": {},
   "outputs": [
    {
     "output_type": "stream",
     "name": "stdout",
     "text": "`gtol` termination condition is satisfied.\nNumber of iterations: 12, function evaluations: 21, CG iterations: 6, optimality: 8.15e-09, constraint violation: 0.00e+00, execution time: 0.024 s.\n"
    }
   ],
   "source": [
    "x0 = np.array([1, 1])\n",
    "res = minimize(objective1, x0, method = 'trust-constr', constraints=[linear_constraints_1], options={'disp':True}, bounds=bounds_1)"
   ]
  },
  {
   "cell_type": "markdown",
   "metadata": {},
   "source": [
    "### Print optimum point"
   ]
  },
  {
   "cell_type": "code",
   "execution_count": 6,
   "metadata": {},
   "outputs": [
    {
     "output_type": "stream",
     "name": "stdout",
     "text": "[1.40023028 1.40029313]\n"
    }
   ],
   "source": [
    "print(res.x)"
   ]
  },
  {
   "cell_type": "markdown",
   "metadata": {},
   "source": [
    "### Check funtion value of optimum point\n",
    "whether it is minimum or not"
   ]
  },
  {
   "cell_type": "code",
   "execution_count": 7,
   "metadata": {},
   "outputs": [
    {
     "output_type": "execute_result",
     "data": {
      "text/plain": "-7.00123941778847"
     },
     "metadata": {},
     "execution_count": 7
    }
   ],
   "source": [
    "objective1(res.x)"
   ]
  },
  {
   "cell_type": "code",
   "execution_count": 8,
   "metadata": {},
   "outputs": [
    {
     "output_type": "execute_result",
     "data": {
      "text/plain": "-6.036947381056418"
     },
     "metadata": {},
     "execution_count": 8
    }
   ],
   "source": [
    "objective1(res.x - np.array([0.1, 0.1]))"
   ]
  },
  {
   "cell_type": "markdown",
   "metadata": {},
   "source": [
    "### Check constraint"
   ]
  },
  {
   "cell_type": "code",
   "execution_count": 9,
   "metadata": {},
   "outputs": [
    {
     "output_type": "execute_result",
     "data": {
      "text/plain": "10.0"
     },
     "metadata": {},
     "execution_count": 9
    }
   ],
   "source": [
    "temp = np.array([2+np.pi, 2])\n",
    "temp @ res.x"
   ]
  },
  {
   "cell_type": "markdown",
   "metadata": {},
   "source": [
    "## Problem 2\n",
    "### Define objective function"
   ]
  },
  {
   "cell_type": "code",
   "execution_count": 120,
   "metadata": {},
   "outputs": [],
   "source": [
    "def objective_2(x):\n",
    "    '''\n",
    "    objective function of problem2\n",
    "    Args:\n",
    "    ---\n",
    "        x : input vector\n",
    "    Return:\n",
    "    ---\n",
    "        value : function value at vector x\n",
    "    '''\n",
    "    A = np.array([11.5, 92.5, 44.3, 98.1, 20.1, 6.1, 45.5, 31.0, 44.3])\n",
    "    value = np.sum(np.divide(x, A)**2)\n",
    "    return value \n"
   ]
  },
  {
   "cell_type": "markdown",
   "metadata": {},
   "source": [
    "### Define bounds of F_i"
   ]
  },
  {
   "cell_type": "code",
   "execution_count": 121,
   "metadata": {},
   "outputs": [],
   "source": [
    "bounds_F = Bounds([0,0,0,0,0,0,0,0,0], [np.inf, np.inf, np.inf, np.inf, np.inf, np.inf, np.inf, np.inf, np.inf])"
   ]
  },
  {
   "cell_type": "markdown",
   "metadata": {},
   "source": [
    "### Define Linear Constraints"
   ]
  },
  {
   "cell_type": "code",
   "execution_count": 122,
   "metadata": {},
   "outputs": [],
   "source": [
    "d = np.array([0.0298, 0.044, 0.044, 0.0138, 0.0329, 0.0329, 0.0279, 0.025, 0.025, 0.0619, 0.0317, 0.0368])\n",
    "linear_constraints_D = LinearConstraint([[d[0], -1*d[1], -1*d[2], 0, 0, 0, 0, 0, 0], \n",
    "                                         [0, 0, -1*d[3], d[4], d[5], -1*d[7], -1*d[8], 0, 0],\n",
    "                                         [0, 0, 0, 0, d[6], 0, -1*d[9], d[-2], -1*d[-1]]\n",
    "                                        ], [4, 33, 31], [4, 33, 31])"
   ]
  },
  {
   "cell_type": "markdown",
   "metadata": {},
   "source": [
    "### Solve optimization problem"
   ]
  },
  {
   "cell_type": "code",
   "execution_count": 125,
   "metadata": {},
   "outputs": [
    {
     "output_type": "stream",
     "name": "stdout",
     "text": "[1. 1. 1. 1. 1. 1. 1. 1. 1.]\n`gtol` termination condition is satisfied.\nNumber of iterations: 279, function evaluations: 2710, CG iterations: 474, optimality: 4.51e-09, constraint violation: 7.11e-15, execution time: 0.77 s.\n"
    }
   ],
   "source": [
    "np.random.seed(1024)\n",
    "F1 = np.ones(9)\n",
    "print(F1)\n",
    "prob2_res = minimize(objective_2, F1, method='trust-constr', constraints=[linear_constraints_D], options={'disp':True}, bounds=bounds_F)"
   ]
  },
  {
   "cell_type": "code",
   "execution_count": 126,
   "metadata": {},
   "outputs": [
    {
     "output_type": "stream",
     "name": "stdout",
     "text": "[1.34228188e+02 1.57343175e-07 2.08046685e-08 7.07677227e+02\n 2.95362289e+02 3.24053147e-06 6.16636711e-08 7.17961897e+02\n 2.47025848e-07]\n"
    }
   ],
   "source": [
    "print(prob2_res.x)"
   ]
  },
  {
   "cell_type": "code",
   "execution_count": 127,
   "metadata": {},
   "outputs": [
    {
     "output_type": "stream",
     "name": "stdout",
     "text": "940.5962998908748\n"
    }
   ],
   "source": [
    "print(objective_2(prob2_res.x))"
   ]
  },
  {
   "cell_type": "markdown",
   "metadata": {},
   "source": [
    "## Problem 3\n",
    "Solve the first problem numerically on the following [website](http://people.brunel.ac.uk/~mastjjb/jeb/or/morelp.html)  \n",
    "- Use Linear programming method\n",
    "- Use Non linear programming method"
   ]
  },
  {
   "cell_type": "markdown",
   "metadata": {},
   "source": [
    "### Problem 3-1"
   ]
  },
  {
   "cell_type": "code",
   "execution_count": 10,
   "metadata": {},
   "outputs": [],
   "source": [
    "from scipy.optimize import linprog\n",
    "c = [-1,-1]\n",
    "A = [[50,24], [30,33]]\n",
    "b = [40*60,35*60]\n",
    "x0_bounds = (45, None)\n",
    "x1_bounds = (5, None)"
   ]
  },
  {
   "cell_type": "code",
   "execution_count": 11,
   "metadata": {},
   "outputs": [
    {
     "output_type": "stream",
     "name": "stdout",
     "text": "con: array([], dtype=float64)\n     fun: -51.25\n message: 'Optimization terminated successfully.'\n     nit: 2\n   slack: array([  0.  , 543.75])\n  status: 0\n success: True\n       x: array([45.  ,  6.25])\n"
    }
   ],
   "source": [
    "res3_1 = linprog(c, A_ub = A, b_ub = b, bounds=[x0_bounds, x1_bounds], method='revised simplex')\n",
    "print(res3_1)"
   ]
  },
  {
   "cell_type": "code",
   "execution_count": 12,
   "metadata": {},
   "outputs": [
    {
     "output_type": "stream",
     "name": "stdout",
     "text": "Actual Optimum Value : 1.25\nOptimal point (x_0, x_1) : (45.0,6.25)\n"
    }
   ],
   "source": [
    "print(f'Actual Optimum Value : {res3_1.fun * -1 - 50}')\n",
    "print(f'Optimal point (x_0, x_1) : ({res3_1.x[0]},{res3_1.x[1]})')"
   ]
  },
  {
   "cell_type": "markdown",
   "metadata": {},
   "source": [
    "### Problem 3-2\n",
    "Here i use exterior penalty function method"
   ]
  },
  {
   "cell_type": "markdown",
   "metadata": {},
   "source": [
    "#### Define combined objective"
   ]
  },
  {
   "cell_type": "code",
   "execution_count": 130,
   "metadata": {},
   "outputs": [],
   "source": [
    "def main_obj(x, r):\n",
    "    '''\n",
    "    combine main objective and penalty function\n",
    "    Args:\n",
    "    ---\n",
    "        x : input vector \n",
    "        r : r value of penalty term\n",
    "    Return:\n",
    "    ---\n",
    "        value : objective function value\n",
    "    '''\n",
    "    # ==== original objective and penalty function ====\n",
    "    def objective3(x):\n",
    "        '''\n",
    "        objective of problem3-2\n",
    "        Args:\n",
    "        ---\n",
    "            x : input vector\n",
    "        Return:\n",
    "        ---\n",
    "            value : function value of input vector\n",
    "        '''\n",
    "        value = x[0] + x[1] - 50\n",
    "        return -1 * value\n",
    "\n",
    "    def g1(x):\n",
    "        '''\n",
    "        First penalty function\n",
    "        '''\n",
    "        return 50 * x[0] + 24 * x[1] - 2400\n",
    "    \n",
    "    def g2(x):\n",
    "        '''\n",
    "        Second penalty function\n",
    "        '''\n",
    "        return 30 * x[0] + 33 * x[1] - 2100\n",
    "\n",
    "    def g3(x):\n",
    "        '''\n",
    "        Third penalty function\n",
    "        '''\n",
    "        return 45 - x[0]\n",
    "    \n",
    "    def g4(x):\n",
    "        '''\n",
    "        Fourth penalty function\n",
    "        '''\n",
    "        return 5 - x[1]\n",
    "    # =================================================\n",
    "    value = objective3(x) + r * ( max(0, g1(x))**2 + max(0, g2(x))**2 + max(0, g3(x))**2 + max(0, g2(x))**2 )\n",
    "    return value"
   ]
  },
  {
   "cell_type": "markdown",
   "metadata": {},
   "source": [
    "#### Implement algorithm"
   ]
  },
  {
   "cell_type": "code",
   "execution_count": 140,
   "metadata": {
    "tags": [
     "outputPrepend",
     "outputPrepend",
     "outputPrepend",
     "outputPrepend",
     "outputPrepend",
     "outputPrepend",
     "outputPrepend",
     "outputPrepend",
     "outputPrepend",
     "outputPrepend",
     "outputPrepend"
    ]
   },
   "outputs": [
    {
     "output_type": "stream",
     "name": "stdout",
     "text": "Optimization terminated successfully.\n         Current function value: -1.543837\n         Iterations: 88\n         Function evaluations: 169\nOptimization terminated successfully.\n         Current function value: -1.543837\n         Iterations: 44\n         Function evaluations: 87\nOptimum point : [44.45833227  7.37934256]\n"
    }
   ],
   "source": [
    "x_prev = np.array([0,0])\n",
    "r = 1\n",
    "c = np.random.randint(1,2)\n",
    "x_next = np.array([1,1])\n",
    "tol = 1e-5\n",
    "while np.linalg.norm(x_prev - x_next) > tol:\n",
    "    res = minimize(main_obj, x_next, args=(r), method='nelder-mead', options={'xatol':tol, 'disp':True})\n",
    "    x_prev = x_next.copy()\n",
    "    x_next = res.x.copy()\n",
    "    r = c * r\n",
    "    \n",
    "print(f'Optimum point : {x_next}')\n"
   ]
  },
  {
   "cell_type": "code",
   "execution_count": 138,
   "metadata": {},
   "outputs": [
    {
     "output_type": "stream",
     "name": "stdout",
     "text": "1.8376748243139787\n"
    }
   ],
   "source": [
    "print(x_next[0]+x_next[1]-50)"
   ]
  },
  {
   "cell_type": "code",
   "execution_count": null,
   "metadata": {},
   "outputs": [],
   "source": []
  }
 ],
 "metadata": {
  "language_info": {
   "codemirror_mode": {
    "name": "ipython",
    "version": 3
   },
   "file_extension": ".py",
   "mimetype": "text/x-python",
   "name": "python",
   "nbconvert_exporter": "python",
   "pygments_lexer": "ipython3",
   "version": "3.7.5-final"
  },
  "orig_nbformat": 2,
  "kernelspec": {
   "name": "optimizationvenv",
   "display_name": "Optimizationvenv"
  }
 },
 "nbformat": 4,
 "nbformat_minor": 2
}